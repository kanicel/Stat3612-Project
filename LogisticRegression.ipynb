# logistic regression
lr = LogisticRegression(solver='liblinear', max_iter=100)
params = {
    'penalty': ['l1', 'l2'],
    'C': Real(1e-6, 1e+6, prior='log-uniform')
}
opt = BayesSearchCV(lr, params, n_iter=50, cv=5, scoring='roc_auc', n_jobs=-1)
opt.fit(X_train, y_train)
print("Best params: ", opt.best_params_)
print("Best AUC: %.4f" % opt.best_score_)
